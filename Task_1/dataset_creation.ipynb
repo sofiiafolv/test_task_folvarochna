{
 "cells": [
  {
   "cell_type": "markdown",
   "metadata": {},
   "source": [
    "# Generating dataset for NER task"
   ]
  },
  {
   "cell_type": "markdown",
   "metadata": {},
   "source": [
    "## Importing libraries"
   ]
  },
  {
   "cell_type": "code",
   "execution_count": 3,
   "metadata": {},
   "outputs": [],
   "source": [
    "import random\n",
    "import json"
   ]
  },
  {
   "cell_type": "markdown",
   "metadata": {},
   "source": [
    "## Generating sentences for dataset\n",
    "\n",
    "With help of ChatGPT, there are mountain names and templates to create realistic training data for model."
   ]
  },
  {
   "cell_type": "code",
   "execution_count": 4,
   "metadata": {},
   "outputs": [],
   "source": [
    "mountains = [\n",
    "    \"Everest\", \"K2\", \"Denali\", \"Mont Blanc\", \"Kilimanjaro\", \"Matterhorn\", \n",
    "    \"Aconcagua\", \"Elbrus\", \"Vinson\", \"Pico de Orizaba\", \"Kosciuszko\",\n",
    "    \"Fuji\", \"Mauna Kea\", \"St. Helens\", \"Whitney\", \"Rainier\",\n",
    "    \"Logan\", \"Annapurna\", \"Nanga Parbat\", \"Makalu\", \"Lhotse\", \"Cho Oyu\",\n",
    "    \"Kangchenjunga\", \"Shishapangma\", \"Puncak Jaya\", \"Hood\", \"Etna\",\n",
    "    \"Vesuvius\", \"Ben Nevis\", \"Table Mountain\", \"Gunnbjorn Fjeld\"\n",
    "]\n",
    "\n",
    "templates = [\n",
    "    \"{} is one of the most famous peaks in the world.\",\n",
    "    \"The ascent of {} is considered challenging by many.\",\n",
    "    \"Tourists often visit {} for its breathtaking views.\",\n",
    "    \"The height of {} attracts many mountaineers.\",\n",
    "    \"{} stands tall as a natural wonder.\",\n",
    "    \"Climbing {} requires skill and determination.\",\n",
    "    \"{} has a unique landscape that attracts explorers.\",\n",
    "    \"The summit of {} is covered in snow for most of the year.\",\n",
    "    \"Many climbers have perished on {} due to its harsh conditions.\",\n",
    "    \"{} is located in a famous mountain range.\",\n",
    "    \"Legends say that {} is sacred to the indigenous people.\",\n",
    "    \"{} offers spectacular sunrise views to early risers.\",\n",
    "    \"The slopes of {} are popular among winter sports enthusiasts.\",\n",
    "    \"{} is the tallest mountain in its region and draws visitors year-round.\",\n",
    "    \"At the top of {}, the views stretch for miles in every direction.\",\n",
    "    \"{} is known for its rugged terrain and unpredictable weather.\",\n",
    "    \"Conquering {} is a lifetime goal for many professional climbers.\",\n",
    "    \"From the base of {}, the mountain looks both majestic and intimidating.\",\n",
    "    \"The trails leading up to {} are lined with stunning flora and fauna.\",\n",
    "    \"Throughout history, {} has been revered by local communities.\",\n",
    "    \"Expeditions to {} have been undertaken for centuries.\",\n",
    "    \"Known for its sheer cliffs, {} challenges even the most experienced mountaineers.\",\n",
    "    \"On a clear day, the peak of {} is visible from many miles away.\",\n",
    "    \"The ecosystem around {} is home to rare and endangered species.\",\n",
    "    \"Each year, thousands attempt to reach the summit of {}.\",\n",
    "    \"{} has been the subject of many documentaries and films.\",\n",
    "    \"The beauty of {} is enhanced by the surrounding valleys and forests.\"\n",
    "]"
   ]
  },
  {
   "cell_type": "markdown",
   "metadata": {},
   "source": [
    "With help of ChatGPT generating annotated sentences:"
   ]
  },
  {
   "cell_type": "code",
   "execution_count": 5,
   "metadata": {},
   "outputs": [],
   "source": [
    "def generate_annotated_sentences(num_sentences=100):\n",
    "    data = []\n",
    "    for _ in range(num_sentences):\n",
    "        mountain = random.choice(mountains)\n",
    "        template = random.choice(templates)\n",
    "        sentence = template.format(mountain)\n",
    "\n",
    "        words = sentence.rstrip(\".\").split()\n",
    "        words.append(\".\")\n",
    "        labels = []\n",
    "\n",
    "        for word in words:\n",
    "            if word in mountain.split():\n",
    "                labels.append(\"B-MOUNTAIN\" if len(labels) == 0 or labels[-1] == \"O\" else \"I-MOUNTAIN\")\n",
    "            else:\n",
    "                labels.append(\"O\")\n",
    "\n",
    "        data.append({\"sentence\": sentence, \"words\": words, \"labels\": labels})\n",
    "    return data"
   ]
  },
  {
   "cell_type": "code",
   "execution_count": 6,
   "metadata": {},
   "outputs": [],
   "source": [
    "data = generate_annotated_sentences(500)"
   ]
  },
  {
   "cell_type": "markdown",
   "metadata": {},
   "source": [
    "## Saving dataset in JSON format"
   ]
  },
  {
   "cell_type": "code",
   "execution_count": 7,
   "metadata": {},
   "outputs": [],
   "source": [
    "with open(\"mountain_ner_dataset.json\", \"w\") as f:\n",
    "    json.dump(data, f, indent=2)"
   ]
  }
 ],
 "metadata": {
  "kernelspec": {
   "display_name": "Python 3",
   "language": "python",
   "name": "python3"
  },
  "language_info": {
   "codemirror_mode": {
    "name": "ipython",
    "version": 3
   },
   "file_extension": ".py",
   "mimetype": "text/x-python",
   "name": "python",
   "nbconvert_exporter": "python",
   "pygments_lexer": "ipython3",
   "version": "3.10.12"
  }
 },
 "nbformat": 4,
 "nbformat_minor": 2
}
